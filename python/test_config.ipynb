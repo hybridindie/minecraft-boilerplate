{
 "cells": [
  {
   "cell_type": "code",
   "execution_count": 1,
   "id": "ef3f79db-ae7b-482a-9a8c-c22268dc5a5d",
   "metadata": {},
   "outputs": [],
   "source": [
    "import mcpi.minecraft as minecraft\n",
    "import mcpi.block as block\n",
    "import time"
   ]
  },
  {
   "cell_type": "code",
   "execution_count": 3,
   "id": "fcad344f-3970-48a3-974c-762e27f15ce6",
   "metadata": {},
   "outputs": [],
   "source": [
    "mc = minecraft.Minecraft.create()\n",
    "\n",
    "mc.postToChat(\"Hello Minecraft World\")"
   ]
  },
  {
   "cell_type": "code",
   "execution_count": 4,
   "id": "fa220dca-fecd-491a-ad65-c18477a67eec",
   "metadata": {},
   "outputs": [],
   "source": [
    "mc.player.setTilePos(0, 120, 0)"
   ]
  }
 ],
 "metadata": {
  "kernelspec": {
   "display_name": "Python 3",
   "language": "python",
   "name": "python3"
  },
  "language_info": {
   "codemirror_mode": {
    "name": "ipython",
    "version": 3
   },
   "file_extension": ".py",
   "mimetype": "text/x-python",
   "name": "python",
   "nbconvert_exporter": "python",
   "pygments_lexer": "ipython3",
   "version": "3.9.5"
  }
 },
 "nbformat": 4,
 "nbformat_minor": 5
}
